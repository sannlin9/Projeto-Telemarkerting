{
 "cells": [
  {
   "cell_type": "code",
   "execution_count": 3,
   "id": "2f09e465",
   "metadata": {},
   "outputs": [],
   "source": [
    "bank_raw =  pd.read_csv(r'https://raw.githubusercontent.com/sannlin9/Projeto-Telemarkerting/main/data/input/bank-additional-full.csv')"
   ]
  },
  {
   "cell_type": "code",
   "execution_count": 2,
   "id": "49d59101",
   "metadata": {},
   "outputs": [],
   "source": [
    "import pandas as pd"
   ]
  }
 ],
 "metadata": {
  "kernelspec": {
   "display_name": "Python 3 (ipykernel)",
   "language": "python",
   "name": "python3"
  },
  "language_info": {
   "codemirror_mode": {
    "name": "ipython",
    "version": 3
   },
   "file_extension": ".py",
   "mimetype": "text/x-python",
   "name": "python",
   "nbconvert_exporter": "python",
   "pygments_lexer": "ipython3",
   "version": "3.9.16"
  }
 },
 "nbformat": 4,
 "nbformat_minor": 5
}
